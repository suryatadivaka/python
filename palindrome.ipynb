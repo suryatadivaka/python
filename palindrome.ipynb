# Identify the given word is a palindrome ?
#!/usr/bin/python
# Author: Surya Tadivaka
word = input("Please enter the palindrome word to test:")

if (word==word[::-1]):
    print ("It is a palindrome")
else:
    print("it is not palindrome")
